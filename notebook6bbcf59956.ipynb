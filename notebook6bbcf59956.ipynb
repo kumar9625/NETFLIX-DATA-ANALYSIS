{
 "cells": [
  {
   "cell_type": "code",
   "execution_count": 1,
   "id": "209d713b",
   "metadata": {
    "execution": {
     "iopub.execute_input": "2022-02-24T18:49:19.703006Z",
     "iopub.status.busy": "2022-02-24T18:49:19.701171Z",
     "iopub.status.idle": "2022-02-24T18:49:20.761521Z",
     "shell.execute_reply": "2022-02-24T18:49:20.762084Z",
     "shell.execute_reply.started": "2022-02-24T18:28:32.239722Z"
    },
    "papermill": {
     "duration": 1.094696,
     "end_time": "2022-02-24T18:49:20.762445",
     "exception": false,
     "start_time": "2022-02-24T18:49:19.667749",
     "status": "completed"
    },
    "tags": []
   },
   "outputs": [],
   "source": [
    "import numpy as np\n",
    "import pandas as pd\n",
    "import matplotlib.pyplot as plt\n",
    "import seaborn as sns"
   ]
  },
  {
   "cell_type": "code",
   "execution_count": 2,
   "id": "4c9440cb",
   "metadata": {
    "execution": {
     "iopub.execute_input": "2022-02-24T18:49:20.821145Z",
     "iopub.status.busy": "2022-02-24T18:49:20.820500Z",
     "iopub.status.idle": "2022-02-24T18:49:20.967881Z",
     "shell.execute_reply": "2022-02-24T18:49:20.967204Z",
     "shell.execute_reply.started": "2022-02-24T18:28:32.248523Z"
    },
    "papermill": {
     "duration": 0.177233,
     "end_time": "2022-02-24T18:49:20.968027",
     "exception": false,
     "start_time": "2022-02-24T18:49:20.790794",
     "status": "completed"
    },
    "tags": []
   },
   "outputs": [],
   "source": [
    "df = pd.read_csv('../input/netflix-shows/netflix_titles.csv')"
   ]
  },
  {
   "cell_type": "code",
   "execution_count": 3,
   "id": "92f8da52",
   "metadata": {
    "execution": {
     "iopub.execute_input": "2022-02-24T18:49:21.026667Z",
     "iopub.status.busy": "2022-02-24T18:49:21.025967Z",
     "iopub.status.idle": "2022-02-24T18:49:21.052934Z",
     "shell.execute_reply": "2022-02-24T18:49:21.052379Z",
     "shell.execute_reply.started": "2022-02-24T18:28:32.351719Z"
    },
    "papermill": {
     "duration": 0.05719,
     "end_time": "2022-02-24T18:49:21.053070",
     "exception": false,
     "start_time": "2022-02-24T18:49:20.995880",
     "status": "completed"
    },
    "tags": []
   },
   "outputs": [
    {
     "data": {
      "text/html": [
       "<div>\n",
       "<style scoped>\n",
       "    .dataframe tbody tr th:only-of-type {\n",
       "        vertical-align: middle;\n",
       "    }\n",
       "\n",
       "    .dataframe tbody tr th {\n",
       "        vertical-align: top;\n",
       "    }\n",
       "\n",
       "    .dataframe thead th {\n",
       "        text-align: right;\n",
       "    }\n",
       "</style>\n",
       "<table border=\"1\" class=\"dataframe\">\n",
       "  <thead>\n",
       "    <tr style=\"text-align: right;\">\n",
       "      <th></th>\n",
       "      <th>show_id</th>\n",
       "      <th>type</th>\n",
       "      <th>title</th>\n",
       "      <th>director</th>\n",
       "      <th>cast</th>\n",
       "      <th>country</th>\n",
       "      <th>date_added</th>\n",
       "      <th>release_year</th>\n",
       "      <th>rating</th>\n",
       "      <th>duration</th>\n",
       "      <th>listed_in</th>\n",
       "      <th>description</th>\n",
       "    </tr>\n",
       "  </thead>\n",
       "  <tbody>\n",
       "    <tr>\n",
       "      <th>0</th>\n",
       "      <td>s1</td>\n",
       "      <td>Movie</td>\n",
       "      <td>Dick Johnson Is Dead</td>\n",
       "      <td>Kirsten Johnson</td>\n",
       "      <td>NaN</td>\n",
       "      <td>United States</td>\n",
       "      <td>September 25, 2021</td>\n",
       "      <td>2020</td>\n",
       "      <td>PG-13</td>\n",
       "      <td>90 min</td>\n",
       "      <td>Documentaries</td>\n",
       "      <td>As her father nears the end of his life, filmm...</td>\n",
       "    </tr>\n",
       "    <tr>\n",
       "      <th>1</th>\n",
       "      <td>s2</td>\n",
       "      <td>TV Show</td>\n",
       "      <td>Blood &amp; Water</td>\n",
       "      <td>NaN</td>\n",
       "      <td>Ama Qamata, Khosi Ngema, Gail Mabalane, Thaban...</td>\n",
       "      <td>South Africa</td>\n",
       "      <td>September 24, 2021</td>\n",
       "      <td>2021</td>\n",
       "      <td>TV-MA</td>\n",
       "      <td>2 Seasons</td>\n",
       "      <td>International TV Shows, TV Dramas, TV Mysteries</td>\n",
       "      <td>After crossing paths at a party, a Cape Town t...</td>\n",
       "    </tr>\n",
       "    <tr>\n",
       "      <th>2</th>\n",
       "      <td>s3</td>\n",
       "      <td>TV Show</td>\n",
       "      <td>Ganglands</td>\n",
       "      <td>Julien Leclercq</td>\n",
       "      <td>Sami Bouajila, Tracy Gotoas, Samuel Jouy, Nabi...</td>\n",
       "      <td>NaN</td>\n",
       "      <td>September 24, 2021</td>\n",
       "      <td>2021</td>\n",
       "      <td>TV-MA</td>\n",
       "      <td>1 Season</td>\n",
       "      <td>Crime TV Shows, International TV Shows, TV Act...</td>\n",
       "      <td>To protect his family from a powerful drug lor...</td>\n",
       "    </tr>\n",
       "    <tr>\n",
       "      <th>3</th>\n",
       "      <td>s4</td>\n",
       "      <td>TV Show</td>\n",
       "      <td>Jailbirds New Orleans</td>\n",
       "      <td>NaN</td>\n",
       "      <td>NaN</td>\n",
       "      <td>NaN</td>\n",
       "      <td>September 24, 2021</td>\n",
       "      <td>2021</td>\n",
       "      <td>TV-MA</td>\n",
       "      <td>1 Season</td>\n",
       "      <td>Docuseries, Reality TV</td>\n",
       "      <td>Feuds, flirtations and toilet talk go down amo...</td>\n",
       "    </tr>\n",
       "    <tr>\n",
       "      <th>4</th>\n",
       "      <td>s5</td>\n",
       "      <td>TV Show</td>\n",
       "      <td>Kota Factory</td>\n",
       "      <td>NaN</td>\n",
       "      <td>Mayur More, Jitendra Kumar, Ranjan Raj, Alam K...</td>\n",
       "      <td>India</td>\n",
       "      <td>September 24, 2021</td>\n",
       "      <td>2021</td>\n",
       "      <td>TV-MA</td>\n",
       "      <td>2 Seasons</td>\n",
       "      <td>International TV Shows, Romantic TV Shows, TV ...</td>\n",
       "      <td>In a city of coaching centers known to train I...</td>\n",
       "    </tr>\n",
       "  </tbody>\n",
       "</table>\n",
       "</div>"
      ],
      "text/plain": [
       "  show_id     type                  title         director  \\\n",
       "0      s1    Movie   Dick Johnson Is Dead  Kirsten Johnson   \n",
       "1      s2  TV Show          Blood & Water              NaN   \n",
       "2      s3  TV Show              Ganglands  Julien Leclercq   \n",
       "3      s4  TV Show  Jailbirds New Orleans              NaN   \n",
       "4      s5  TV Show           Kota Factory              NaN   \n",
       "\n",
       "                                                cast        country  \\\n",
       "0                                                NaN  United States   \n",
       "1  Ama Qamata, Khosi Ngema, Gail Mabalane, Thaban...   South Africa   \n",
       "2  Sami Bouajila, Tracy Gotoas, Samuel Jouy, Nabi...            NaN   \n",
       "3                                                NaN            NaN   \n",
       "4  Mayur More, Jitendra Kumar, Ranjan Raj, Alam K...          India   \n",
       "\n",
       "           date_added  release_year rating   duration  \\\n",
       "0  September 25, 2021          2020  PG-13     90 min   \n",
       "1  September 24, 2021          2021  TV-MA  2 Seasons   \n",
       "2  September 24, 2021          2021  TV-MA   1 Season   \n",
       "3  September 24, 2021          2021  TV-MA   1 Season   \n",
       "4  September 24, 2021          2021  TV-MA  2 Seasons   \n",
       "\n",
       "                                           listed_in  \\\n",
       "0                                      Documentaries   \n",
       "1    International TV Shows, TV Dramas, TV Mysteries   \n",
       "2  Crime TV Shows, International TV Shows, TV Act...   \n",
       "3                             Docuseries, Reality TV   \n",
       "4  International TV Shows, Romantic TV Shows, TV ...   \n",
       "\n",
       "                                         description  \n",
       "0  As her father nears the end of his life, filmm...  \n",
       "1  After crossing paths at a party, a Cape Town t...  \n",
       "2  To protect his family from a powerful drug lor...  \n",
       "3  Feuds, flirtations and toilet talk go down amo...  \n",
       "4  In a city of coaching centers known to train I...  "
      ]
     },
     "execution_count": 3,
     "metadata": {},
     "output_type": "execute_result"
    }
   ],
   "source": [
    "df.head()"
   ]
  },
  {
   "cell_type": "code",
   "execution_count": 4,
   "id": "3374e2af",
   "metadata": {
    "execution": {
     "iopub.execute_input": "2022-02-24T18:49:21.116336Z",
     "iopub.status.busy": "2022-02-24T18:49:21.115566Z",
     "iopub.status.idle": "2022-02-24T18:49:21.334567Z",
     "shell.execute_reply": "2022-02-24T18:49:21.333888Z",
     "shell.execute_reply.started": "2022-02-24T18:28:32.385063Z"
    },
    "papermill": {
     "duration": 0.253567,
     "end_time": "2022-02-24T18:49:21.334719",
     "exception": false,
     "start_time": "2022-02-24T18:49:21.081152",
     "status": "completed"
    },
    "tags": []
   },
   "outputs": [
    {
     "data": {
      "text/plain": [
       "(8807, 13)"
      ]
     },
     "execution_count": 4,
     "metadata": {},
     "output_type": "execute_result"
    }
   ],
   "source": [
    "df[\"date_added\"] = pd.to_datetime(df['date_added'])\n",
    "df['year_added'] = df['date_added'].dt.year\n",
    "df.shape"
   ]
  },
  {
   "cell_type": "code",
   "execution_count": 5,
   "id": "93f3476d",
   "metadata": {
    "execution": {
     "iopub.execute_input": "2022-02-24T18:49:21.395590Z",
     "iopub.status.busy": "2022-02-24T18:49:21.394910Z",
     "iopub.status.idle": "2022-02-24T18:49:21.406777Z",
     "shell.execute_reply": "2022-02-24T18:49:21.406069Z",
     "shell.execute_reply.started": "2022-02-24T18:28:32.659592Z"
    },
    "papermill": {
     "duration": 0.044226,
     "end_time": "2022-02-24T18:49:21.406924",
     "exception": false,
     "start_time": "2022-02-24T18:49:21.362698",
     "status": "completed"
    },
    "tags": []
   },
   "outputs": [],
   "source": [
    "df['rating'] = df['rating'].fillna('TV-MA')\n",
    "df['country'] = df['country'].fillna('United States')\n",
    "df['year_added'] = df['year_added'].fillna(2019)\n",
    "df['director'] = df['director'].fillna('DNK')"
   ]
  },
  {
   "cell_type": "markdown",
   "id": "4d56aa0d",
   "metadata": {
    "papermill": {
     "duration": 0.027331,
     "end_time": "2022-02-24T18:49:21.462146",
     "exception": false,
     "start_time": "2022-02-24T18:49:21.434815",
     "status": "completed"
    },
    "tags": []
   },
   "source": [
    "MOVIES VS TV SHOWS ANALYSIS"
   ]
  },
  {
   "cell_type": "code",
   "execution_count": 6,
   "id": "571e1865",
   "metadata": {
    "execution": {
     "iopub.execute_input": "2022-02-24T18:49:21.522660Z",
     "iopub.status.busy": "2022-02-24T18:49:21.521929Z",
     "iopub.status.idle": "2022-02-24T18:49:21.531544Z",
     "shell.execute_reply": "2022-02-24T18:49:21.532093Z",
     "shell.execute_reply.started": "2022-02-24T18:28:32.672703Z"
    },
    "papermill": {
     "duration": 0.041742,
     "end_time": "2022-02-24T18:49:21.532290",
     "exception": false,
     "start_time": "2022-02-24T18:49:21.490548",
     "status": "completed"
    },
    "tags": []
   },
   "outputs": [
    {
     "data": {
      "text/plain": [
       "Movie      6131\n",
       "TV Show    2676\n",
       "Name: type, dtype: int64"
      ]
     },
     "execution_count": 6,
     "metadata": {},
     "output_type": "execute_result"
    }
   ],
   "source": [
    "df['type'].value_counts()"
   ]
  },
  {
   "cell_type": "code",
   "execution_count": 7,
   "id": "2a9a1fd4",
   "metadata": {
    "execution": {
     "iopub.execute_input": "2022-02-24T18:49:21.594911Z",
     "iopub.status.busy": "2022-02-24T18:49:21.594179Z",
     "iopub.status.idle": "2022-02-24T18:49:21.601043Z",
     "shell.execute_reply": "2022-02-24T18:49:21.600429Z",
     "shell.execute_reply.started": "2022-02-24T18:28:32.690813Z"
    },
    "papermill": {
     "duration": 0.040511,
     "end_time": "2022-02-24T18:49:21.601222",
     "exception": false,
     "start_time": "2022-02-24T18:49:21.560711",
     "status": "completed"
    },
    "tags": []
   },
   "outputs": [],
   "source": [
    "td = df['type'].value_counts()"
   ]
  },
  {
   "cell_type": "code",
   "execution_count": 8,
   "id": "5a62787a",
   "metadata": {
    "execution": {
     "iopub.execute_input": "2022-02-24T18:49:21.664641Z",
     "iopub.status.busy": "2022-02-24T18:49:21.663925Z",
     "iopub.status.idle": "2022-02-24T18:49:21.854449Z",
     "shell.execute_reply": "2022-02-24T18:49:21.855364Z",
     "shell.execute_reply.started": "2022-02-24T18:28:32.713080Z"
    },
    "papermill": {
     "duration": 0.225716,
     "end_time": "2022-02-24T18:49:21.855644",
     "exception": false,
     "start_time": "2022-02-24T18:49:21.629928",
     "status": "completed"
    },
    "tags": []
   },
   "outputs": [
    {
     "data": {
      "image/png": "[encoded data removed]",
      "text/plain": [
       "<Figure size 360x360 with 1 Axes>"
      ]
     },
     "metadata": {},
     "output_type": "display_data"
    }
   ],
   "source": [
    "td.plot.pie(startangle = 90, shadow = True, explode = (0.07,0.14), autopct = '%1.1f%%',figsize = (5,5))\n",
    "plt.show()"
   ]
  },
  {
   "cell_type": "markdown",
   "id": "c42efbf1",
   "metadata": {
    "papermill": {
     "duration": 0.030945,
     "end_time": "2022-02-24T18:49:21.941860",
     "exception": false,
     "start_time": "2022-02-24T18:49:21.910915",
     "status": "completed"
    },
    "tags": []
   },
   "source": [
    "COUNTRY WISE ANALYSIS ON NETFLIX"
   ]
  },
  {
   "cell_type": "code",
   "execution_count": 9,
   "id": "ead67204",
   "metadata": {
    "execution": {
     "iopub.execute_input": "2022-02-24T18:49:22.012376Z",
     "iopub.status.busy": "2022-02-24T18:49:22.011587Z",
     "iopub.status.idle": "2022-02-24T18:49:22.014390Z",
     "shell.execute_reply": "2022-02-24T18:49:22.014951Z",
     "shell.execute_reply.started": "2022-02-24T18:28:32.901940Z"
    },
    "papermill": {
     "duration": 0.042202,
     "end_time": "2022-02-24T18:49:22.015125",
     "exception": false,
     "start_time": "2022-02-24T18:49:21.972923",
     "status": "completed"
    },
    "tags": []
   },
   "outputs": [],
   "source": [
    "df['country'] = df['country'].apply(lambda x: x.split(',')[0])"
   ]
  },
  {
   "cell_type": "code",
   "execution_count": 10,
   "id": "c8a16441",
   "metadata": {
    "execution": {
     "iopub.execute_input": "2022-02-24T18:49:22.081506Z",
     "iopub.status.busy": "2022-02-24T18:49:22.080767Z",
     "iopub.status.idle": "2022-02-24T18:49:22.085204Z",
     "shell.execute_reply": "2022-02-24T18:49:22.085891Z",
     "shell.execute_reply.started": "2022-02-24T18:28:32.915151Z"
    },
    "papermill": {
     "duration": 0.040685,
     "end_time": "2022-02-24T18:49:22.086070",
     "exception": false,
     "start_time": "2022-02-24T18:49:22.045385",
     "status": "completed"
    },
    "tags": []
   },
   "outputs": [
    {
     "data": {
      "text/plain": [
       "86"
      ]
     },
     "execution_count": 10,
     "metadata": {},
     "output_type": "execute_result"
    }
   ],
   "source": [
    "df.country.nunique()"
   ]
  },
  {
   "cell_type": "code",
   "execution_count": 11,
   "id": "118dceba",
   "metadata": {
    "execution": {
     "iopub.execute_input": "2022-02-24T18:49:22.151535Z",
     "iopub.status.busy": "2022-02-24T18:49:22.150451Z",
     "iopub.status.idle": "2022-02-24T18:49:22.160042Z",
     "shell.execute_reply": "2022-02-24T18:49:22.160821Z",
     "shell.execute_reply.started": "2022-02-24T18:28:32.937319Z"
    },
    "papermill": {
     "duration": 0.044671,
     "end_time": "2022-02-24T18:49:22.161011",
     "exception": false,
     "start_time": "2022-02-24T18:49:22.116340",
     "status": "completed"
    },
    "tags": []
   },
   "outputs": [
    {
     "data": {
      "text/plain": [
       "United States     4042\n",
       "India             1008\n",
       "United Kingdom     628\n",
       "Canada             271\n",
       "Japan              259\n",
       "Name: country, dtype: int64"
      ]
     },
     "execution_count": 11,
     "metadata": {},
     "output_type": "execute_result"
    }
   ],
   "source": [
    "df.country.value_counts().head()"
   ]
  },
  {
   "cell_type": "code",
   "execution_count": 12,
   "id": "dde72f4d",
   "metadata": {
    "execution": {
     "iopub.execute_input": "2022-02-24T18:49:22.230177Z",
     "iopub.status.busy": "2022-02-24T18:49:22.229223Z",
     "iopub.status.idle": "2022-02-24T18:49:22.235646Z",
     "shell.execute_reply": "2022-02-24T18:49:22.236262Z",
     "shell.execute_reply.started": "2022-02-24T18:28:32.951861Z"
    },
    "papermill": {
     "duration": 0.042218,
     "end_time": "2022-02-24T18:49:22.236436",
     "exception": false,
     "start_time": "2022-02-24T18:49:22.194218",
     "status": "completed"
    },
    "tags": []
   },
   "outputs": [],
   "source": [
    "tc = df.country.value_counts().head()"
   ]
  },
  {
   "cell_type": "code",
   "execution_count": 13,
   "id": "23d18435",
   "metadata": {
    "execution": {
     "iopub.execute_input": "2022-02-24T18:49:22.304427Z",
     "iopub.status.busy": "2022-02-24T18:49:22.303360Z",
     "iopub.status.idle": "2022-02-24T18:49:22.532859Z",
     "shell.execute_reply": "2022-02-24T18:49:22.533373Z",
     "shell.execute_reply.started": "2022-02-24T18:28:32.966422Z"
    },
    "papermill": {
     "duration": 0.265187,
     "end_time": "2022-02-24T18:49:22.533542",
     "exception": false,
     "start_time": "2022-02-24T18:49:22.268355",
     "status": "completed"
    },
    "tags": []
   },
   "outputs": [
    {
     "data": {
      "image/png": "[encoded data removed]",
      "text/plain": [
       "<Figure size 864x576 with 1 Axes>"
      ]
     },
     "metadata": {
      "needs_background": "light"
     },
     "output_type": "display_data"
    }
   ],
   "source": [
    "plt.figure(figsize = (12, 8) )\n",
    "plt.title('Top 5 Countries on Netflix')\n",
    "tc.plot.bar( color = 'crimson')\n",
    "plt.xlabel('COUNTRY')\n",
    "plt.ylabel('MOVIES & TV SHOWS')\n",
    "plt.show()"
   ]
  },
  {
   "cell_type": "markdown",
   "id": "c629fdca",
   "metadata": {
    "papermill": {
     "duration": 0.030852,
     "end_time": "2022-02-24T18:49:22.595373",
     "exception": false,
     "start_time": "2022-02-24T18:49:22.564521",
     "status": "completed"
    },
    "tags": []
   },
   "source": [
    "CATOGORY WISE ANALYSIS"
   ]
  },
  {
   "cell_type": "code",
   "execution_count": 14,
   "id": "9d6d8a1f",
   "metadata": {
    "execution": {
     "iopub.execute_input": "2022-02-24T18:49:22.663841Z",
     "iopub.status.busy": "2022-02-24T18:49:22.662787Z",
     "iopub.status.idle": "2022-02-24T18:49:22.671740Z",
     "shell.execute_reply": "2022-02-24T18:49:22.672264Z",
     "shell.execute_reply.started": "2022-02-24T18:28:33.169940Z"
    },
    "papermill": {
     "duration": 0.044599,
     "end_time": "2022-02-24T18:49:22.672446",
     "exception": false,
     "start_time": "2022-02-24T18:49:22.627847",
     "status": "completed"
    },
    "tags": []
   },
   "outputs": [],
   "source": [
    "df['listed_in'] = df['listed_in'].apply(lambda x: x.split(' , ')[0])"
   ]
  },
  {
   "cell_type": "code",
   "execution_count": 15,
   "id": "dfc40221",
   "metadata": {
    "execution": {
     "iopub.execute_input": "2022-02-24T18:49:22.746248Z",
     "iopub.status.busy": "2022-02-24T18:49:22.745480Z",
     "iopub.status.idle": "2022-02-24T18:49:22.749733Z",
     "shell.execute_reply": "2022-02-24T18:49:22.749020Z",
     "shell.execute_reply.started": "2022-02-24T18:28:33.181521Z"
    },
    "papermill": {
     "duration": 0.045428,
     "end_time": "2022-02-24T18:49:22.749882",
     "exception": false,
     "start_time": "2022-02-24T18:49:22.704454",
     "status": "completed"
    },
    "tags": []
   },
   "outputs": [
    {
     "data": {
      "text/plain": [
       "Dramas, International Movies                        362\n",
       "Documentaries                                       359\n",
       "Stand-Up Comedy                                     334\n",
       "Comedies, Dramas, International Movies              274\n",
       "Dramas, Independent Movies, International Movies    252\n",
       "Name: listed_in, dtype: int64"
      ]
     },
     "execution_count": 15,
     "metadata": {},
     "output_type": "execute_result"
    }
   ],
   "source": [
    "df.listed_in.value_counts().head()"
   ]
  },
  {
   "cell_type": "code",
   "execution_count": 16,
   "id": "abd30811",
   "metadata": {
    "execution": {
     "iopub.execute_input": "2022-02-24T18:49:22.817590Z",
     "iopub.status.busy": "2022-02-24T18:49:22.816583Z",
     "iopub.status.idle": "2022-02-24T18:49:22.823707Z",
     "shell.execute_reply": "2022-02-24T18:49:22.824282Z",
     "shell.execute_reply.started": "2022-02-24T18:28:33.205343Z"
    },
    "papermill": {
     "duration": 0.042844,
     "end_time": "2022-02-24T18:49:22.824456",
     "exception": false,
     "start_time": "2022-02-24T18:49:22.781612",
     "status": "completed"
    },
    "tags": []
   },
   "outputs": [],
   "source": [
    "tl = df.listed_in.value_counts().head()"
   ]
  },
  {
   "cell_type": "code",
   "execution_count": 17,
   "id": "1969ee62",
   "metadata": {
    "execution": {
     "iopub.execute_input": "2022-02-24T18:49:22.921774Z",
     "iopub.status.busy": "2022-02-24T18:49:22.919255Z",
     "iopub.status.idle": "2022-02-24T18:49:23.116246Z",
     "shell.execute_reply": "2022-02-24T18:49:23.117515Z",
     "shell.execute_reply.started": "2022-02-24T18:28:33.219776Z"
    },
    "papermill": {
     "duration": 0.260616,
     "end_time": "2022-02-24T18:49:23.117921",
     "exception": false,
     "start_time": "2022-02-24T18:49:22.857305",
     "status": "completed"
    },
    "tags": []
   },
   "outputs": [
    {
     "data": {
      "image/png": "[encoded data removed]",
      "text/plain": [
       "<Figure size 432x432 with 1 Axes>"
      ]
     },
     "metadata": {},
     "output_type": "display_data"
    }
   ],
   "source": [
    "tl.plot.pie(startangle = 90, explode = (0.1, 0.1, 0.1, 0.1, 0.1),shadow = True, autopct = '%1.1f%%', y = 'CATOGORIES',fontsize =15, figsize = (6,6), title = 'Catogory wise distribution')\n",
    "plt.show()"
   ]
  },
  {
   "cell_type": "markdown",
   "id": "7498e18a",
   "metadata": {
    "papermill": {
     "duration": 0.036247,
     "end_time": "2022-02-24T18:49:23.192372",
     "exception": false,
     "start_time": "2022-02-24T18:49:23.156125",
     "status": "completed"
    },
    "tags": []
   },
   "source": [
    "CAST WISE ANALYSIS"
   ]
  },
  {
   "cell_type": "code",
   "execution_count": 18,
   "id": "51142885",
   "metadata": {
    "execution": {
     "iopub.execute_input": "2022-02-24T18:49:23.270065Z",
     "iopub.status.busy": "2022-02-24T18:49:23.268941Z",
     "iopub.status.idle": "2022-02-24T18:49:23.270886Z",
     "shell.execute_reply": "2022-02-24T18:49:23.271545Z",
     "shell.execute_reply.started": "2022-02-24T18:28:33.403330Z"
    },
    "papermill": {
     "duration": 0.044665,
     "end_time": "2022-02-24T18:49:23.271721",
     "exception": false,
     "start_time": "2022-02-24T18:49:23.227056",
     "status": "completed"
    },
    "tags": []
   },
   "outputs": [],
   "source": [
    "df['cast'] = df['cast'].fillna('CNK')"
   ]
  },
  {
   "cell_type": "code",
   "execution_count": 19,
   "id": "eba93027",
   "metadata": {
    "execution": {
     "iopub.execute_input": "2022-02-24T18:49:23.345730Z",
     "iopub.status.busy": "2022-02-24T18:49:23.344700Z",
     "iopub.status.idle": "2022-02-24T18:49:23.359818Z",
     "shell.execute_reply": "2022-02-24T18:49:23.360331Z",
     "shell.execute_reply.started": "2022-02-24T18:28:33.413136Z"
    },
    "papermill": {
     "duration": 0.053559,
     "end_time": "2022-02-24T18:49:23.360518",
     "exception": false,
     "start_time": "2022-02-24T18:49:23.306959",
     "status": "completed"
    },
    "tags": []
   },
   "outputs": [],
   "source": [
    "df['cast'] = df['cast'].apply( lambda x: x.split(', ')[0])"
   ]
  },
  {
   "cell_type": "code",
   "execution_count": 20,
   "id": "ce8e1991",
   "metadata": {
    "execution": {
     "iopub.execute_input": "2022-02-24T18:49:23.435169Z",
     "iopub.status.busy": "2022-02-24T18:49:23.434156Z",
     "iopub.status.idle": "2022-02-24T18:49:23.443229Z",
     "shell.execute_reply": "2022-02-24T18:49:23.443763Z",
     "shell.execute_reply.started": "2022-02-24T18:28:33.441971Z"
    },
    "papermill": {
     "duration": 0.047521,
     "end_time": "2022-02-24T18:49:23.443951",
     "exception": false,
     "start_time": "2022-02-24T18:49:23.396430",
     "status": "completed"
    },
    "tags": []
   },
   "outputs": [],
   "source": [
    "ta = df.cast.value_counts().head(6)[1:]"
   ]
  },
  {
   "cell_type": "code",
   "execution_count": 21,
   "id": "20210155",
   "metadata": {
    "execution": {
     "iopub.execute_input": "2022-02-24T18:49:23.517002Z",
     "iopub.status.busy": "2022-02-24T18:49:23.515900Z",
     "iopub.status.idle": "2022-02-24T18:49:23.766979Z",
     "shell.execute_reply": "2022-02-24T18:49:23.767507Z",
     "shell.execute_reply.started": "2022-02-24T18:28:33.453711Z"
    },
    "papermill": {
     "duration": 0.288881,
     "end_time": "2022-02-24T18:49:23.767683",
     "exception": false,
     "start_time": "2022-02-24T18:49:23.478802",
     "status": "completed"
    },
    "tags": []
   },
   "outputs": [
    {
     "data": {
      "image/png": "[encoded data removed]",
      "text/plain": [
       "<Figure size 864x576 with 1 Axes>"
      ]
     },
     "metadata": {
      "needs_background": "light"
     },
     "output_type": "display_data"
    }
   ],
   "source": [
    "\n",
    "plt.figure(figsize = (12,8))\n",
    "plt.title('Top Cast On Netflix', fontsize = 20)\n",
    "plt.xlabel('Cast', fontsize = 15)\n",
    "plt.ylabel('Movies and T.V Shows', fontsize = 15)\n",
    "gg = ta.plot.bar(color = 'burlywood')\n"
   ]
  },
  {
   "cell_type": "code",
   "execution_count": 22,
   "id": "006d672e",
   "metadata": {
    "execution": {
     "iopub.execute_input": "2022-02-24T18:49:23.841255Z",
     "iopub.status.busy": "2022-02-24T18:49:23.840588Z",
     "iopub.status.idle": "2022-02-24T18:49:23.845056Z",
     "shell.execute_reply": "2022-02-24T18:49:23.845771Z",
     "shell.execute_reply.started": "2022-02-24T18:28:33.669524Z"
    },
    "papermill": {
     "duration": 0.042514,
     "end_time": "2022-02-24T18:49:23.845945",
     "exception": false,
     "start_time": "2022-02-24T18:49:23.803431",
     "status": "completed"
    },
    "tags": []
   },
   "outputs": [],
   "source": [
    "ty = df['release_year'].value_counts()"
   ]
  },
  {
   "cell_type": "code",
   "execution_count": 23,
   "id": "3de7e5f7",
   "metadata": {
    "execution": {
     "iopub.execute_input": "2022-02-24T18:49:23.921634Z",
     "iopub.status.busy": "2022-02-24T18:49:23.920941Z",
     "iopub.status.idle": "2022-02-24T18:49:25.342756Z",
     "shell.execute_reply": "2022-02-24T18:49:25.343273Z",
     "shell.execute_reply.started": "2022-02-24T18:28:33.677329Z"
    },
    "papermill": {
     "duration": 1.461569,
     "end_time": "2022-02-24T18:49:25.343442",
     "exception": false,
     "start_time": "2022-02-24T18:49:23.881873",
     "status": "completed"
    },
    "tags": []
   },
   "outputs": [
    {
     "data": {
      "text/plain": [
       "<seaborn.axisgrid.FacetGrid at 0x7f9fd6067510>"
      ]
     },
     "execution_count": 23,
     "metadata": {},
     "output_type": "execute_result"
    },
    {
     "data": {
      "image/png": "[encoded data removed]",
      "text/plain": [
       "<Figure size 438.75x360 with 1 Axes>"
      ]
     },
     "metadata": {
      "needs_background": "light"
     },
     "output_type": "display_data"
    }
   ],
   "source": [
    "sns.displot(df, x='release_year', hue = 'type')"
   ]
  },
  {
   "cell_type": "code",
   "execution_count": null,
   "id": "8dbd159e",
   "metadata": {
    "papermill": {
     "duration": 0.03548,
     "end_time": "2022-02-24T18:49:25.414665",
     "exception": false,
     "start_time": "2022-02-24T18:49:25.379185",
     "status": "completed"
    },
    "tags": []
   },
   "outputs": [],
   "source": []
  }
 ],
 "metadata": {
  "kernelspec": {
   "display_name": "Python 3",
   "language": "python",
   "name": "python3"
  },
  "language_info": {
   "codemirror_mode": {
    "name": "ipython",
    "version": 3
   },
   "file_extension": ".py",
   "mimetype": "text/x-python",
   "name": "python",
   "nbconvert_exporter": "python",
   "pygments_lexer": "ipython3",
   "version": "3.7.12"
  },
  "papermill": {
   "default_parameters": {},
   "duration": 18.363286,
   "end_time": "2022-02-24T18:49:26.262321",
   "environment_variables": {},
   "exception": null,
   "input_path": "__notebook__.ipynb",
   "output_path": "__notebook__.ipynb",
   "parameters": {},
   "start_time": "2022-02-24T18:49:07.899035",
   "version": "2.3.3"
  }
 },
 "nbformat": 4,
 "nbformat_minor": 5
}
